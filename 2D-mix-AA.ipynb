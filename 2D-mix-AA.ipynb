{
 "cells": [
  {
   "cell_type": "code",
   "execution_count": 6,
   "metadata": {},
   "outputs": [],
   "source": [
    "#The import cell: You'll only need to run this cell once, but you'll need to run it first\n",
    "# To run, hold shift and press Enter.\n",
    "import hoomd\n",
    "import hoomd.md\n",
    "from hoomd import deprecated\n",
    "import mbuild, mdtraj, nglview, numpy\n",
    "import matplotlib.pyplot as plt\n",
    "%matplotlib inline"
   ]
  },
  {
   "cell_type": "code",
   "execution_count": 7,
   "metadata": {},
   "outputs": [],
   "source": [
    "# The 'settings' cell\n",
    "# You can change these values to change how the simulations run\n",
    "Number_of_particles = 900 #A quirk of this notebook is that you should choose a square number here\n",
    "Temperature = 2. #These are \"dimensionless temperature units\" that map to Kelvin based upon the Lennard-Jones parameters"
   ]
  },
  {
   "cell_type": "code",
   "execution_count": 8,
   "metadata": {},
   "outputs": [
    {
     "name": "stdout",
     "output_type": "stream",
     "text": [
      "notice(2): Group \"all\" created containing 900 particles\n",
      "-----\n",
      "You are using tree neighbor lists. Please cite the following:\n",
      "* M P Howard, J A Anderson, A Nikoubashman, S C Glotzer, and A Z\n",
      "  Panagiotopoulos. \"Efficient neighbor list calculation for molecular simulation\n",
      "  of colloidal systems using graphics processing units\", Computer Physics\n",
      "  Communications 203 (2016) 45--52\n",
      "-----\n",
      "notice(2): integrate.langevin/bd is using specified gamma values\n"
     ]
    },
    {
     "data": {
      "text/plain": [
       "<hoomd.md.integrate.langevin at 0x7fb12cc1ac88>"
      ]
     },
     "execution_count": 8,
     "metadata": {},
     "output_type": "execute_result"
    }
   ],
   "source": [
    "# The simulation engine initializer cell\n",
    "# This if you change something in the settings above, you'll need to re-run that cell and this one before \n",
    "# running another simulation\n",
    "hoomd.context.initialize(\"\")\n",
    "system=hoomd.init.create_lattice(unitcell=hoomd.lattice.unitcell(N=1,a1=[1.1,0,0],a2=[0,1.1,0],a3=[0,0,1],dimensions=2,type_name=[\"A\"],position=[[0,0,0]]),n=int(Number_of_particles**.5))\n",
    "deprecated.dump.xml(filename=\"init.hoomdxml\",group=hoomd.group.all(),vis=True)\n",
    "nl = hoomd.md.nlist.tree()\n",
    "lj = hoomd.md.pair.lj(r_cut=2.5,nlist=nl)\n",
    "lj.pair_coeff.set(\"A\",\"A\",epsilon=1,sigma=1)\n",
    "hoomd.md.integrate.mode_standard(dt=0.007)\n",
    "all=hoomd.group.all()\n",
    "hoomd.md.integrate.langevin(group=all,kT=Temperature,seed=14)"
   ]
  },
  {
   "cell_type": "code",
   "execution_count": 9,
   "metadata": {},
   "outputs": [
    {
     "name": "stdout",
     "output_type": "stream",
     "text": [
      "notice(2): -- Neighborlist exclusion statistics -- :\n",
      "notice(2): Particles with 0 exclusions             : 900\n",
      "notice(2): Neighbors included by diameter          : no\n",
      "notice(2): Neighbors excluded when in the same body: no\n",
      "** starting run **\n",
      "Time 00:00:11 | Step 17659 / 50000 | TPS 1765.88 | ETA 00:00:18\n",
      "Time 00:00:21 | Step 34842 / 50000 | TPS 1718.13 | ETA 00:00:08\n",
      "Time 00:00:29 | Step 50000 / 50000 | TPS 1763.97 | ETA 00:00:00\n",
      "Average TPS: 1748.53\n",
      "---------\n",
      "-- Neighborlist stats:\n",
      "8130 normal updates / 500 forced updates / 0 dangerous updates\n",
      "n_neigh_min: 0 / n_neigh_max: 23 / n_neigh_avg: 10.1689\n",
      "shortest rebuild period: 4\n",
      "** run complete **\n"
     ]
    },
    {
     "data": {
      "text/plain": [
       "<hoomd.deprecated.dump.xml at 0x7fb161296668>"
      ]
     },
     "execution_count": 9,
     "metadata": {},
     "output_type": "execute_result"
    }
   ],
   "source": [
    "#The simulation cell\n",
    "# Run this cell to output a 'log' file, plus a couple of files that store info for all the microstates sampled\n",
    "hoomd.dump.dcd(filename=\"traj.dcd\",period=50,group=hoomd.group.all(),overwrite=True)\n",
    "hoomd.analyze.log(filename=\"log\",quantities=['potential_energy','temperature','pressure','kinetic_energy'],period=50,overwrite=True)\n",
    "hoomd.run(5e4)\n",
    "deprecated.dump.xml(filename=\"final.hoomdxml\",group=hoomd.group.all(),vis=True)"
   ]
  },
  {
   "cell_type": "code",
   "execution_count": 10,
   "metadata": {},
   "outputs": [
    {
     "data": {
      "application/vnd.jupyter.widget-view+json": {
       "model_id": "68b7d18bacb541deae6d5e9854157de2",
       "version_major": 2,
       "version_minor": 0
      },
      "text/html": [
       "<p>Failed to display Jupyter Widget of type <code>NGLWidget</code>.</p>\n",
       "<p>\n",
       "  If you're reading this message in the Jupyter Notebook or JupyterLab Notebook, it may mean\n",
       "  that the widgets JavaScript is still loading. If this message persists, it\n",
       "  likely means that the widgets JavaScript library is either not installed or\n",
       "  not enabled. See the <a href=\"https://ipywidgets.readthedocs.io/en/stable/user_install.html\">Jupyter\n",
       "  Widgets Documentation</a> for setup instructions.\n",
       "</p>\n",
       "<p>\n",
       "  If you're reading this message in another frontend (for example, a static\n",
       "  rendering on GitHub or <a href=\"https://nbviewer.jupyter.org/\">NBViewer</a>),\n",
       "  it may mean that your frontend doesn't currently support widgets.\n",
       "</p>\n"
      ],
      "text/plain": [
       "NGLWidget(count=1000)"
      ]
     },
     "metadata": {},
     "output_type": "display_data"
    }
   ],
   "source": [
    "# The visualization cell\n",
    "# Run this to see the atoms move!\n",
    "t = mdtraj.load(\"traj.dcd\",top=\"final.hoomdxml\")\n",
    "view = nglview.show_mdtraj(t)\n",
    "view.clear_representations()\n",
    "view.add_representation(\"point\",selection=[i for i in range(0,Number_of_particles//2)],color='blue',pointSize=2.5,useTexture=True)\n",
    "view.add_representation(\"point\",selection=[i for i in range(Number_of_particles//2,Number_of_particles)],color='orange',pointSize=2.5,useTexture=True)\n",
    "view\n",
    "#After running this cell, you can press \"play\" below and use the slider to view different microstates.\n",
    "#Sometimes you'll get a bunch of pink warnings if the slider starts over - you can ignore these safely."
   ]
  }
 ],
 "metadata": {
  "kernelspec": {
   "display_name": "Python 3",
   "language": "python",
   "name": "python3"
  },
  "language_info": {
   "codemirror_mode": {
    "name": "ipython",
    "version": 3
   },
   "file_extension": ".py",
   "mimetype": "text/x-python",
   "name": "python",
   "nbconvert_exporter": "python",
   "pygments_lexer": "ipython3",
   "version": "3.6.4"
  }
 },
 "nbformat": 4,
 "nbformat_minor": 2
}
